{
 "cells": [
  {
   "cell_type": "code",
   "id": "initial_id",
   "metadata": {
    "collapsed": true,
    "ExecuteTime": {
     "end_time": "2025-03-04T23:08:22.802961Z",
     "start_time": "2025-03-04T23:08:22.789125Z"
    }
   },
   "source": [
    "import torch\n",
    "\n",
    "from agent import RainbowDQN\n",
    "\n",
    "agent: RainbowDQN = torch.load('agent.pth')\n",
    "rainbowDQN = RainbowDQN((1, 100, 100), 8)\n",
    "rainbowDQN.load_state_dict(agent)\n",
    "rainbowDQN.eval()"
   ],
   "outputs": [
    {
     "name": "stdout",
     "output_type": "stream",
     "text": [
      "2592\n"
     ]
    },
    {
     "data": {
      "text/plain": [
       "RainbowDQN(\n",
       "  (conv): Sequential(\n",
       "    (0): Conv2d(1, 16, kernel_size=(8, 8), stride=(4, 4))\n",
       "    (1): GroupNorm(1, 16, eps=1e-05, affine=True)\n",
       "    (2): ReLU()\n",
       "    (3): Conv2d(16, 24, kernel_size=(4, 4), stride=(2, 2))\n",
       "    (4): GroupNorm(1, 24, eps=1e-05, affine=True)\n",
       "    (5): ReLU()\n",
       "    (6): Conv2d(24, 32, kernel_size=(3, 3), stride=(1, 1))\n",
       "    (7): GroupNorm(1, 32, eps=1e-05, affine=True)\n",
       "    (8): ReLU()\n",
       "  )\n",
       "  (fc): Sequential(\n",
       "    (0): Linear(in_features=2592, out_features=256, bias=True)\n",
       "    (1): LayerNorm((256,), eps=1e-05, elementwise_affine=True)\n",
       "    (2): ReLU()\n",
       "    (3): Linear(in_features=256, out_features=8, bias=True)\n",
       "  )\n",
       ")"
      ]
     },
     "execution_count": 17,
     "metadata": {},
     "output_type": "execute_result"
    }
   ],
   "execution_count": 17
  },
  {
   "metadata": {
    "ExecuteTime": {
     "end_time": "2025-03-04T23:12:01.662283Z",
     "start_time": "2025-03-04T23:12:01.655061Z"
    }
   },
   "cell_type": "code",
   "source": [
    "import numpy as np\n",
    "from PIL import Image\n",
    "\n",
    "image = Image.open(\"screenshot5.png\")\n",
    "image = torch.FloatTensor(np.array(image)).unsqueeze(0).unsqueeze(0)\n",
    "rainbowDQN(image)"
   ],
   "id": "b7bb8432f223553c",
   "outputs": [
    {
     "data": {
      "text/plain": [
       "tensor([[2.2072, 2.3850, 4.5291, 4.7688, 1.5642, 3.3997, 3.3091, 1.4396]],\n",
       "       grad_fn=<AddmmBackward0>)"
      ]
     },
     "execution_count": 20,
     "metadata": {},
     "output_type": "execute_result"
    }
   ],
   "execution_count": 20
  },
  {
   "metadata": {},
   "cell_type": "code",
   "outputs": [],
   "execution_count": null,
   "source": "",
   "id": "a39bb995098729af"
  }
 ],
 "metadata": {
  "kernelspec": {
   "display_name": "Python 3",
   "language": "python",
   "name": "python3"
  },
  "language_info": {
   "codemirror_mode": {
    "name": "ipython",
    "version": 2
   },
   "file_extension": ".py",
   "mimetype": "text/x-python",
   "name": "python",
   "nbconvert_exporter": "python",
   "pygments_lexer": "ipython2",
   "version": "2.7.6"
  }
 },
 "nbformat": 4,
 "nbformat_minor": 5
}
